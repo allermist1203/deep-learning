{
  "nbformat": 4,
  "nbformat_minor": 0,
  "metadata": {
    "colab": {
      "name": "create_image.ipynb",
      "provenance": [],
      "collapsed_sections": [],
      "mount_file_id": "1GworCP6zb2Y9BY3VowYmbRCA5dQKFtkk",
      "authorship_tag": "ABX9TyMC+eIUZJmlijlFnSv0riyR",
      "include_colab_link": true
    },
    "kernelspec": {
      "name": "python3",
      "display_name": "Python 3"
    }
  },
  "cells": [
    {
      "cell_type": "markdown",
      "metadata": {
        "id": "view-in-github",
        "colab_type": "text"
      },
      "source": [
        "<a href=\"https://colab.research.google.com/github/allermist1203/deep-learning/blob/master/segmentation/create_image.ipynb\" target=\"_parent\"><img src=\"https://colab.research.google.com/assets/colab-badge.svg\" alt=\"Open In Colab\"/></a>"
      ]
    },
    {
      "cell_type": "code",
      "metadata": {
        "id": "JG8wWcxhQDFD",
        "colab_type": "code",
        "colab": {}
      },
      "source": [
        "import cv2\n",
        "import numpy as np\n",
        "from random import randint\n",
        "\n",
        "MIN_SIZE = 20\n",
        "IMG_SIZE = 64\n",
        "\n",
        "def create_circle():\n",
        "  mask = np.zeros( (IMG_SIZE,IMG_SIZE), np.uint8)\n",
        "  img = np.full( (IMG_SIZE,IMG_SIZE,3), randint( 0, 255), np.uint8)\n",
        "  _radius = randint(MIN_SIZE, int(IMG_SIZE/2+0.5))\n",
        "  _center = tuple(np.random.randint( 0, IMG_SIZE-_radius-1, 2))\n",
        "  cv2.circle( img, _center, _radius, [ int(n) for n in np.random.randint( 0, 255, 3)], thickness=-1 )\n",
        "  cv2.circle( mask, _center, _radius, 255, thickness=-1 )\n",
        "  return img, mask"
      ],
      "execution_count": 0,
      "outputs": []
    },
    {
      "cell_type": "markdown",
      "metadata": {
        "id": "RRzU72Ysc0o-",
        "colab_type": "text"
      },
      "source": [
        ""
      ]
    },
    {
      "cell_type": "code",
      "metadata": {
        "id": "OezigthNZNy0",
        "colab_type": "code",
        "colab": {}
      },
      "source": [
        "CIRCLE = 0\n",
        "RECTANGLE = 1\n",
        "TRIANGLE = 2\n",
        "\n",
        "N_IMAGE = 1000\n",
        "for i in range(N_IMAGE):\n",
        "  _img, _mask = create_circle()\n",
        "  cv2.imwrite('/content/drive/My Drive/プログラム/深層学習/セグメンテーション/train/original/%d.png'%i,_img)\n",
        "  cv2.imwrite('/content/drive/My Drive/プログラム/深層学習/セグメンテーション/train/mask/%d.png'%i,_mask)\n",
        "\n",
        "for i in range( int(N_IMAGE/10+0.5)):\n",
        "  _img, _mask = create_circle()\n",
        "  cv2.imwrite('/content/drive/My Drive/プログラム/深層学習/セグメンテーション/test/original/%d.png'%i,_img)\n",
        "  cv2.imwrite('/content/drive/My Drive/プログラム/深層学習/セグメンテーション/test/mask/%d.png'%i,_mask)"
      ],
      "execution_count": 0,
      "outputs": []
    }
  ]
}